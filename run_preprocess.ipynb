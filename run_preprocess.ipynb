{
 "cells": [
  {
   "cell_type": "code",
   "execution_count": 6,
   "metadata": {},
   "outputs": [
    {
     "name": "stdout",
     "output_type": "stream",
     "text": [
      "The autoreload extension is already loaded. To reload it, use:\n",
      "  %reload_ext autoreload\n"
     ]
    }
   ],
   "source": [
    "%load_ext autoreload\n",
    "%autoreload 2\n",
    "from utils.preprocess import get_traces_data\n",
    "traces = get_traces_data(\"inkML_data/CROHME_training_2011/formulaire001-equation001.inkml\")"
   ]
  },
  {
   "cell_type": "code",
   "execution_count": 1,
   "metadata": {},
   "outputs": [
    {
     "name": "stderr",
     "output_type": "stream",
     "text": [
      "  9%|▉         | 805/8836 [00:16<02:40, 50.10it/s]"
     ]
    },
    {
     "name": "stdout",
     "output_type": "stream",
     "text": [
      "Error with file:  MfrDB0104.inkml  in folder:  inkML_data/TrainINKML_2013 Don't worry, this is expected.\n"
     ]
    },
    {
     "name": "stderr",
     "output_type": "stream",
     "text": [
      " 14%|█▎        | 1209/8836 [00:24<02:28, 51.31it/s]"
     ]
    },
    {
     "name": "stdout",
     "output_type": "stream",
     "text": [
      "Error with file:  MfrDB3088.inkml  in folder:  inkML_data/TrainINKML_2013 Don't worry, this is expected.\n"
     ]
    },
    {
     "name": "stderr",
     "output_type": "stream",
     "text": [
      "100%|██████████| 8836/8836 [02:56<00:00, 49.97it/s]\n",
      "100%|██████████| 630/630 [00:13<00:00, 45.37it/s]\n",
      "100%|██████████| 708/708 [00:15<00:00, 46.98it/s]\n",
      "100%|██████████| 921/921 [00:19<00:00, 47.20it/s]"
     ]
    },
    {
     "name": "stdout",
     "output_type": "stream",
     "text": [
      "11093 images generated.\n"
     ]
    },
    {
     "name": "stderr",
     "output_type": "stream",
     "text": [
      "\n"
     ]
    },
    {
     "data": {
      "text/plain": [
       "<Figure size 640x480 with 0 Axes>"
      ]
     },
     "metadata": {},
     "output_type": "display_data"
    }
   ],
   "source": [
    "%load_ext autoreload\n",
    "%autoreload 2\n",
    "from utils.preprocess import ink2img_folder\n",
    "import os\n",
    "import pandas as pd\n",
    "\n",
    "data_folders = os.listdir(\"inkML_data\")\n",
    "ink2img_folder([os.path.join(\"inkML_data\", i) for i in [\"TrainINKML_2013\",\n",
    "                                                        \"trainData_2012_part1\",\n",
    "                                                        \"trainData_2012_part2\",\n",
    "                                                        \"CROHME_training_2011\"]], \"img_data\")\n",
    "df = pd.read_csv(\"img_data/labels.csv\")\n",
    "print(len(df), \"images generated.\")\n",
    "assert [i for i in os.listdir(\"img_data\") if i.split('.png')[0][-1] != '0'] == ['labels.csv'], \"Duplicate files in img_data folder. Please remove them and try again.\"\n",
    "img_files = set(os.listdir(\"img_data\"))\n",
    "for i in df[\"name\"]:\n",
    "    assert i in img_files, f\"{i} not found in img_data folder\"\n",
    "print(\"All checks passed.\")"
   ]
  }
 ],
 "metadata": {
  "kernelspec": {
   "display_name": "torch2",
   "language": "python",
   "name": "python3"
  },
  "language_info": {
   "codemirror_mode": {
    "name": "ipython",
    "version": 3
   },
   "file_extension": ".py",
   "mimetype": "text/x-python",
   "name": "python",
   "nbconvert_exporter": "python",
   "pygments_lexer": "ipython3",
   "version": "3.11.5"
  }
 },
 "nbformat": 4,
 "nbformat_minor": 2
}
