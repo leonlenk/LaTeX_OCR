{
 "cells": [
  {
   "cell_type": "code",
   "execution_count": 5,
   "metadata": {},
   "outputs": [],
   "source": [
    "import pandas as pd\n",
    "df = pd.read_csv(\"img_data/labels.csv\")"
   ]
  },
  {
   "cell_type": "code",
   "execution_count": 4,
   "metadata": {},
   "outputs": [
    {
     "name": "stderr",
     "output_type": "stream",
     "text": [
      "  9%|▉         | 804/8836 [00:16<02:43, 49.13it/s]"
     ]
    },
    {
     "name": "stdout",
     "output_type": "stream",
     "text": [
      "Error with file:  MfrDB0104.inkml  in folder:  inkML_data/TrainINKML_2013 Don't worry, this is expected.\n"
     ]
    },
    {
     "name": "stderr",
     "output_type": "stream",
     "text": [
      " 14%|█▎        | 1206/8836 [00:24<02:33, 49.58it/s]"
     ]
    },
    {
     "name": "stdout",
     "output_type": "stream",
     "text": [
      "Error with file:  MfrDB3088.inkml  in folder:  inkML_data/TrainINKML_2013 Don't worry, this is expected.\n"
     ]
    },
    {
     "name": "stderr",
     "output_type": "stream",
     "text": [
      "100%|██████████| 8836/8836 [02:58<00:00, 49.57it/s]\n",
      "100%|██████████| 630/630 [00:13<00:00, 45.24it/s]\n",
      "100%|██████████| 708/708 [00:15<00:00, 47.10it/s]\n",
      "100%|██████████| 921/921 [00:19<00:00, 46.64it/s]"
     ]
    },
    {
     "name": "stdout",
     "output_type": "stream",
     "text": [
      "11093 images generated.\n",
      "All checks passed.\n"
     ]
    },
    {
     "name": "stderr",
     "output_type": "stream",
     "text": [
      "\n"
     ]
    },
    {
     "data": {
      "text/plain": [
       "<Figure size 640x480 with 0 Axes>"
      ]
     },
     "metadata": {},
     "output_type": "display_data"
    }
   ],
   "source": [
    "from utils.preprocess import ink2img_folder\n",
    "import os\n",
    "import pandas as pd\n",
    "\n",
    "data_folders = os.listdir(\"inkML_data\")\n",
    "ink2img_folder([os.path.join(\"inkML_data\", i) for i in [\"TrainINKML_2013\",\n",
    "                                                        \"trainData_2012_part1\",\n",
    "                                                        \"trainData_2012_part2\",\n",
    "                                                        \"CROHME_training_2011\"]], \"img_data\")\n",
    "df = pd.read_csv(\"img_data/labels.csv\")\n",
    "print(len(df), \"images generated.\")\n",
    "assert [i for i in os.listdir(\"img_data\") if i.split('.png')[0][-1] != '0'] == ['labels.csv'], \"Duplicate files in img_data folder. Please remove them and try again.\"\n",
    "img_files = set(os.listdir(\"img_data\"))\n",
    "for i in df[\"name\"]:\n",
    "    assert i in img_files, f\"{i} not found in img_data folder\"\n",
    "assert len([i for i in df[\"label\"] if '.ink' in i]) == 0, \"Some labels are still in .ink format! The XML reading's probably corrupted. Did you add extra folders to the inkml dataset?\"\n",
    "print(\"All checks passed.\")"
   ]
  }
 ],
 "metadata": {
  "kernelspec": {
   "display_name": "torch2",
   "language": "python",
   "name": "python3"
  },
  "language_info": {
   "codemirror_mode": {
    "name": "ipython",
    "version": 3
   },
   "file_extension": ".py",
   "mimetype": "text/x-python",
   "name": "python",
   "nbconvert_exporter": "python",
   "pygments_lexer": "ipython3",
   "version": "3.11.5"
  }
 },
 "nbformat": 4,
 "nbformat_minor": 2
}
